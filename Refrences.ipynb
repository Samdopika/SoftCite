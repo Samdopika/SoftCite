{
 "cells": [
  {
   "cell_type": "code",
   "execution_count": 1,
   "id": "6e118cbd",
   "metadata": {},
   "outputs": [],
   "source": [
    "import os\n",
    "import pandas as pd\n",
    "import json"
   ]
  },
  {
   "cell_type": "code",
   "execution_count": 4,
   "id": "5667ed30",
   "metadata": {},
   "outputs": [
    {
     "data": {
      "text/plain": [
       "['.DS_Store',\n",
       " '.ipynb_checkpoints',\n",
       " 'annotations.json',\n",
       " 'annotations_1.xlsx',\n",
       " 'annotations_10.xlsx',\n",
       " 'annotations_11.xlsx',\n",
       " 'annotations_12.xlsx',\n",
       " 'annotations_13.xlsx',\n",
       " 'annotations_14.xlsx',\n",
       " 'annotations_15.xlsx',\n",
       " 'annotations_16.xlsx',\n",
       " 'annotations_17.xlsx',\n",
       " 'annotations_18.xlsx',\n",
       " 'annotations_19.xlsx',\n",
       " 'annotations_2.xlsx',\n",
       " 'annotations_20.xlsx',\n",
       " 'annotations_21.xlsx',\n",
       " 'annotations_22.xlsx',\n",
       " 'annotations_3.xlsx',\n",
       " 'annotations_4.xlsx',\n",
       " 'annotations_5.xlsx',\n",
       " 'annotations_6.xlsx',\n",
       " 'annotations_7.xlsx',\n",
       " 'annotations_8.xlsx',\n",
       " 'annotations_9.xlsx',\n",
       " 'Matched_RRIDs.ipynb',\n",
       " 'merged_data.xlsx',\n",
       " 'Merger.ipynb',\n",
       " 'references - Copy.json',\n",
       " 'Refrences.ipynb',\n",
       " 'Regiatery_Complete.csv',\n",
       " 'submatcheds.txt',\n",
       " 'Untitled.ipynb',\n",
       " 'Untitled1 - Jupyter Notebook.pdf',\n",
       " 'Untitled1.ipynb',\n",
       " '~$merged_data.xlsx']"
      ]
     },
     "execution_count": 4,
     "metadata": {},
     "output_type": "execute_result"
    }
   ],
   "source": [
    "os.listdir()"
   ]
  },
  {
   "cell_type": "code",
   "execution_count": 3,
   "id": "a0e46cf1",
   "metadata": {},
   "outputs": [],
   "source": [
    "CHUNK_SIZE = 3000"
   ]
  },
  {
   "cell_type": "code",
   "execution_count": 6,
   "id": "7248f3a7",
   "metadata": {},
   "outputs": [],
   "source": [
    "with open('references - Copy.json', 'r', encoding='utf-8') as f:\n",
    "    lines = f.readlines()\n"
   ]
  },
  {
   "cell_type": "code",
   "execution_count": 8,
   "id": "b7525967",
   "metadata": {},
   "outputs": [
    {
     "name": "stderr",
     "output_type": "stream",
     "text": [
      "IOPub data rate exceeded.\n",
      "The notebook server will temporarily stop sending output\n",
      "to the client in order to avoid crashing it.\n",
      "To change this limit, set the config variable\n",
      "`--NotebookApp.iopub_data_rate_limit`.\n",
      "\n",
      "Current values:\n",
      "NotebookApp.iopub_data_rate_limit=1000000.0 (bytes/sec)\n",
      "NotebookApp.rate_limit_window=3.0 (secs)\n",
      "\n"
     ]
    }
   ],
   "source": [
    "data = []\n",
    "for line in lines:\n",
    "    try:\n",
    "        data.append(json.loads(line))\n",
    "    except json.JSONDecodeError as e:\n",
    "        print(f\"Error parsing JSON: {e}\\nLine: {line}\")"
   ]
  },
  {
   "cell_type": "code",
   "execution_count": null,
   "id": "3fea5d79",
   "metadata": {},
   "outputs": [],
   "source": []
  }
 ],
 "metadata": {
  "kernelspec": {
   "display_name": "Python 3 (ipykernel)",
   "language": "python",
   "name": "python3"
  },
  "language_info": {
   "codemirror_mode": {
    "name": "ipython",
    "version": 3
   },
   "file_extension": ".py",
   "mimetype": "text/x-python",
   "name": "python",
   "nbconvert_exporter": "python",
   "pygments_lexer": "ipython3",
   "version": "3.9.12"
  }
 },
 "nbformat": 4,
 "nbformat_minor": 5
}
